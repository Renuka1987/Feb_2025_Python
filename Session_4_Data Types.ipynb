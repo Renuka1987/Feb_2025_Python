{
 "cells": [
  {
   "cell_type": "markdown",
   "id": "e216eb8a-f0fe-4566-a27b-b81153212942",
   "metadata": {},
   "source": [
    "## Data Types"
   ]
  },
  {
   "cell_type": "markdown",
   "id": "92cdfa16-b915-4952-998c-bd4ce9090486",
   "metadata": {},
   "source": [
    "- integer: int\n",
    "- float: float\n",
    "- string\n",
    "- list\n",
    "- tuple\n",
    "- set\n",
    "    - frozen set\n",
    "- dictionary\n",
    "- bool\n",
    "- complex\n",
    "- range\n",
    "- byte\n",
    "- byte array\n",
    "- memory view\n",
    "- None type\n"
   ]
  },
  {
   "cell_type": "markdown",
   "id": "bbc70a35-57a2-46f1-93e1-c7043e260e65",
   "metadata": {},
   "source": [
    "- myth\n",
    "    - only 14-15 data types available"
   ]
  },
  {
   "cell_type": "markdown",
   "id": "742c603d-8d60-49db-9f00-79a30ef784d9",
   "metadata": {},
   "source": [
    "$integer$"
   ]
  },
  {
   "cell_type": "code",
   "execution_count": 5,
   "id": "02fb8b74-3128-4e43-815e-0075dbaadd32",
   "metadata": {},
   "outputs": [
    {
     "data": {
      "text/plain": [
       "100"
      ]
     },
     "execution_count": 5,
     "metadata": {},
     "output_type": "execute_result"
    }
   ],
   "source": [
    "number=100\n",
    "number"
   ]
  },
  {
   "cell_type": "code",
   "execution_count": 9,
   "id": "6b347e44-b950-451b-b56f-430ae41ad70f",
   "metadata": {},
   "outputs": [
    {
     "data": {
      "text/plain": [
       "int"
      ]
     },
     "execution_count": 9,
     "metadata": {},
     "output_type": "execute_result"
    }
   ],
   "source": [
    "type(number)"
   ]
  },
  {
   "cell_type": "markdown",
   "id": "4497e7e2-109b-4e1a-add9-e2a6c27d603c",
   "metadata": {},
   "source": [
    "**number system**\n",
    "\n",
    "- Binary number system\n",
    "- Decimal number system\n",
    "- Octa number system\n",
    "- Hexa number system"
   ]
  },
  {
   "cell_type": "code",
   "execution_count": 12,
   "id": "c283b78c-7d99-4d1d-abe2-f3640e1e31f0",
   "metadata": {},
   "outputs": [
    {
     "data": {
      "text/plain": [
       "2025"
      ]
     },
     "execution_count": 12,
     "metadata": {},
     "output_type": "execute_result"
    }
   ],
   "source": [
    "9*9\n",
    "5*5\n",
    "81*25"
   ]
  },
  {
   "cell_type": "code",
   "execution_count": 14,
   "id": "5fdd2308-33c5-4b49-a8f6-5e0d24c35ee5",
   "metadata": {},
   "outputs": [
    {
     "data": {
      "text/plain": [
       "2025"
      ]
     },
     "execution_count": 14,
     "metadata": {},
     "output_type": "execute_result"
    }
   ],
   "source": [
    "40*40+20*20+5*5"
   ]
  },
  {
   "cell_type": "code",
   "execution_count": 16,
   "id": "6a455cb7-2c74-41df-a524-474af9b92fa5",
   "metadata": {},
   "outputs": [
    {
     "data": {
      "text/plain": [
       "2025"
      ]
     },
     "execution_count": 16,
     "metadata": {},
     "output_type": "execute_result"
    }
   ],
   "source": [
    "sum([i**3 for i in range(1,10)])"
   ]
  },
  {
   "cell_type": "markdown",
   "id": "ec4d3949-50cd-4f84-8066-418668da8594",
   "metadata": {},
   "source": [
    "**Binary number system**\n",
    "- it is denoted with **0b** or **0B**\n",
    "- Binary means two\n",
    "- we have generally 0 to 9 digits available\n",
    "- binary means only two digits allowed:0 to 1\n",
    "- ex: 0b101 0b111 0b000 0B001\n",
    "- not valid: 0b123 0B1000012"
   ]
  },
  {
   "cell_type": "code",
   "execution_count": 19,
   "id": "98cdacd3-9c48-4692-b5f0-5a6758e570d6",
   "metadata": {},
   "outputs": [
    {
     "data": {
      "text/plain": [
       "7"
      ]
     },
     "execution_count": 19,
     "metadata": {},
     "output_type": "execute_result"
    }
   ],
   "source": [
    "0b111"
   ]
  },
  {
   "cell_type": "code",
   "execution_count": 21,
   "id": "8073d7c3-b843-4e01-a262-4255c9cec0d0",
   "metadata": {},
   "outputs": [
    {
     "data": {
      "text/plain": [
       "29"
      ]
     },
     "execution_count": 21,
     "metadata": {},
     "output_type": "execute_result"
    }
   ],
   "source": [
    "0b11101"
   ]
  },
  {
   "cell_type": "code",
   "execution_count": 23,
   "id": "679c8839-b023-44b7-ac94-587b527fba97",
   "metadata": {},
   "outputs": [
    {
     "ename": "SyntaxError",
     "evalue": "invalid syntax (3496331587.py, line 1)",
     "output_type": "error",
     "traceback": [
      "\u001b[1;36m  Cell \u001b[1;32mIn[23], line 1\u001b[1;36m\u001b[0m\n\u001b[1;33m    2^2 2^1 2^0\u001b[0m\n\u001b[1;37m        ^\u001b[0m\n\u001b[1;31mSyntaxError\u001b[0m\u001b[1;31m:\u001b[0m invalid syntax\n"
     ]
    }
   ],
   "source": [
    "2^2 2^1 2^0\n",
    "4    2    1\n",
    "###################\n",
    "0    0    0    0 \n",
    "0    0    1    1\n",
    "0    1    0    2\n",
    "0    1    1    3\n",
    "1    0    0    4\n",
    "1    0    1    5\n",
    "1    1    0    6\n",
    "1    1    1    7\n"
   ]
  },
  {
   "cell_type": "code",
   "execution_count": null,
   "id": "fc5c40a8-b216-485b-af17-366bc62ba2c6",
   "metadata": {},
   "outputs": [],
   "source": [
    "2^3   2^2   2^1   2^0\n",
    " 8     4     2     1\n",
    "############################\n",
    " 0     0     0     0    0\n",
    " 0     0     0     1    1\n",
    " 0     0     1     0    2\n",
    " 0     0     1     1    3\n",
    " 0     1     0     0    4\n",
    " 0     1     0     1    5\n",
    " 0     1     1     0    6\n",
    " 0     1     1     1    7\n",
    " 1     0     0     0    8\n",
    " 1     0     0     1    9\n",
    " 1     0     1     0    10\n",
    " 1     0     1     1    11\n",
    " 1     1     0     0    12\n",
    " 1     1     0     1    13\n",
    " 1     1     1     0    14\n",
    " 1     1     1     1    15\n"
   ]
  },
  {
   "cell_type": "markdown",
   "id": "4dc3da65-60ab-4aa1-ab8b-db9bd6983ecc",
   "metadata": {},
   "source": [
    "**Octa number system**\n",
    "- it is denoted with **0o** or **08**\n",
    "- Octa means 8\n",
    "- we have generally 0 to 9 digits available\n",
    "- octa means only 8 digits allowed :0 1 2 3 4 5 6 7\n",
    "- ex: 0o567 0o768 0o169 \n",
    "- not valid: 0o768 0O169"
   ]
  },
  {
   "cell_type": "markdown",
   "id": "91a4515c-2016-472d-92fb-f5b3b859316d",
   "metadata": {},
   "source": [
    "0o123"
   ]
  },
  {
   "cell_type": "code",
   "execution_count": 29,
   "id": "bb3bf129-d4bc-461a-95fe-40585e41818f",
   "metadata": {},
   "outputs": [
    {
     "data": {
      "text/plain": [
       "83"
      ]
     },
     "execution_count": 29,
     "metadata": {},
     "output_type": "execute_result"
    }
   ],
   "source": [
    "0o123"
   ]
  },
  {
   "cell_type": "code",
   "execution_count": 31,
   "id": "5a21932d-ad4c-4425-aeac-c7affefa1c58",
   "metadata": {},
   "outputs": [
    {
     "data": {
      "text/plain": [
       "302"
      ]
     },
     "execution_count": 31,
     "metadata": {},
     "output_type": "execute_result"
    }
   ],
   "source": [
    "0o456"
   ]
  },
  {
   "cell_type": "markdown",
   "id": "dd614d00-cd72-4f55-a751-57fd346fd544",
   "metadata": {},
   "source": [
    "**Hexa number system**\n",
    "- it is denoted with **0x** or **0X**\n",
    "- Hexa means 16\n",
    "- we have generally 0 to 9 digits available\n",
    "- Hexa means only 9 digits allowed :0 to 9 then A to F\n",
    "- A: 10 B: 11 c: 12 D: 13 E: 14 F:15\n",
    "- ex: 0xabc 0XA1\n",
    "- not valid: 0xefg "
   ]
  },
  {
   "cell_type": "markdown",
   "id": "6988ed02-da70-4cf8-a953-368714cb542e",
   "metadata": {},
   "source": [
    "**2025**\n",
    "- binary\n",
    "- oct\n",
    "- hexa"
   ]
  },
  {
   "cell_type": "code",
   "execution_count": 36,
   "id": "4ce4872a-24c8-4950-9805-be3489ac12c8",
   "metadata": {},
   "outputs": [
    {
     "data": {
      "text/plain": [
       "2025"
      ]
     },
     "execution_count": 36,
     "metadata": {},
     "output_type": "execute_result"
    }
   ],
   "source": [
    "0b11111101001"
   ]
  },
  {
   "cell_type": "code",
   "execution_count": 38,
   "id": "c850c5cc-c92c-4c60-b9bc-a0e7ad31b8ca",
   "metadata": {},
   "outputs": [
    {
     "ename": "NameError",
     "evalue": "name 'ox7E9' is not defined",
     "output_type": "error",
     "traceback": [
      "\u001b[1;31m---------------------------------------------------------------------------\u001b[0m",
      "\u001b[1;31mNameError\u001b[0m                                 Traceback (most recent call last)",
      "Cell \u001b[1;32mIn[38], line 1\u001b[0m\n\u001b[1;32m----> 1\u001b[0m ox7E9\n",
      "\u001b[1;31mNameError\u001b[0m: name 'ox7E9' is not defined"
     ]
    }
   ],
   "source": [
    "ox7E9"
   ]
  },
  {
   "cell_type": "code",
   "execution_count": 40,
   "id": "fcef0acd-1653-45ac-a11e-49ff688f92a7",
   "metadata": {},
   "outputs": [
    {
     "data": {
      "text/plain": [
       "2025"
      ]
     },
     "execution_count": 40,
     "metadata": {},
     "output_type": "execute_result"
    }
   ],
   "source": [
    "0x7E9"
   ]
  },
  {
   "cell_type": "code",
   "execution_count": 42,
   "id": "316bbdf5-0bdd-413a-84ca-88e88edfa82a",
   "metadata": {},
   "outputs": [
    {
     "data": {
      "text/plain": [
       "2025"
      ]
     },
     "execution_count": 42,
     "metadata": {},
     "output_type": "execute_result"
    }
   ],
   "source": [
    "0o3751"
   ]
  },
  {
   "cell_type": "markdown",
   "id": "e0f21016-69e4-407c-a948-a3d9dc05c384",
   "metadata": {},
   "source": [
    "**float**"
   ]
  },
  {
   "cell_type": "markdown",
   "id": "7ce545cb-b476-4e9f-84c7-e5e831dec9c2",
   "metadata": {},
   "source": [
    "##### number=10.5\n",
    "type(number)"
   ]
  },
  {
   "cell_type": "markdown",
   "id": "5903a61f-6406-4d2c-b11a-74eec4aa7887",
   "metadata": {},
   "source": [
    "**e representation**"
   ]
  },
  {
   "cell_type": "code",
   "execution_count": 48,
   "id": "d48d4a12-728c-4bdb-a4fe-22b1e87882ec",
   "metadata": {},
   "outputs": [
    {
     "data": {
      "text/plain": [
       "10.0"
      ]
     },
     "execution_count": 48,
     "metadata": {},
     "output_type": "execute_result"
    }
   ],
   "source": [
    "1e1          # exponential representation"
   ]
  },
  {
   "cell_type": "code",
   "execution_count": 50,
   "id": "fc5bb10e-344a-4cea-9dc2-83d8f0292fcf",
   "metadata": {},
   "outputs": [
    {
     "data": {
      "text/plain": [
       "100.0"
      ]
     },
     "execution_count": 50,
     "metadata": {},
     "output_type": "execute_result"
    }
   ],
   "source": [
    "1e2"
   ]
  },
  {
   "cell_type": "code",
   "execution_count": 52,
   "id": "d4076e32-ce38-4069-ab84-6b2fab912793",
   "metadata": {},
   "outputs": [
    {
     "data": {
      "text/plain": [
       "1000.0"
      ]
     },
     "execution_count": 52,
     "metadata": {},
     "output_type": "execute_result"
    }
   ],
   "source": [
    "1e3"
   ]
  },
  {
   "cell_type": "code",
   "execution_count": 54,
   "id": "f264c0e5-c005-4cdc-ab25-747e6a12c5b2",
   "metadata": {},
   "outputs": [
    {
     "data": {
      "text/plain": [
       "20000.0"
      ]
     },
     "execution_count": 54,
     "metadata": {},
     "output_type": "execute_result"
    }
   ],
   "source": [
    "2e4  #2*10000"
   ]
  },
  {
   "cell_type": "code",
   "execution_count": null,
   "id": "dd9b92cc-a568-480f-b948-5e5ce814c65a",
   "metadata": {},
   "outputs": [],
   "source": [
    "1e1  #1*10=10\n",
    "1e2  #1*100=100\n",
    "2e3  #2*1000=2000\n",
    "4e4  #4*10000=40000"
   ]
  },
  {
   "cell_type": "code",
   "execution_count": 56,
   "id": "f1dada9c-5dbb-4973-a194-4921d09a7853",
   "metadata": {},
   "outputs": [
    {
     "name": "stdout",
     "output_type": "stream",
     "text": [
      "10.0\n",
      "100.0\n",
      "2000.0\n",
      "40000.0\n"
     ]
    }
   ],
   "source": [
    "print(1e+1)  #1*10=10\n",
    "print(1e+2)  #1*100=100\n",
    "print(2e+3)  #2*1000=2000\n",
    "print(4e+4)  #4*10000=40000"
   ]
  },
  {
   "cell_type": "code",
   "execution_count": 58,
   "id": "d85badce-9d0e-43bd-b067-93b1d46a8124",
   "metadata": {},
   "outputs": [
    {
     "name": "stdout",
     "output_type": "stream",
     "text": [
      "0.1\n",
      "0.01\n",
      "0.002\n",
      "0.0004\n"
     ]
    }
   ],
   "source": [
    "print(1e-1)  #1/10=0.1\n",
    "print(1e-2)  #1/100=0.01\n",
    "print(2e-3)  #2/1000=0.002\n",
    "print(4e-4)  #4/10000=0.0004"
   ]
  },
  {
   "cell_type": "code",
   "execution_count": 1,
   "id": "50712f66-e1de-4646-a40f-6f66ca8f94ae",
   "metadata": {},
   "outputs": [
    {
     "data": {
      "text/plain": [
       "46"
      ]
     },
     "execution_count": 1,
     "metadata": {},
     "output_type": "execute_result"
    }
   ],
   "source": [
    "0b101110"
   ]
  },
  {
   "cell_type": "code",
   "execution_count": 3,
   "id": "fb4d76c9-4b1c-4a74-93ab-0113c8288aec",
   "metadata": {},
   "outputs": [
    {
     "data": {
      "text/plain": [
       "1707"
      ]
     },
     "execution_count": 3,
     "metadata": {},
     "output_type": "execute_result"
    }
   ],
   "source": [
    "0b11010101011"
   ]
  },
  {
   "cell_type": "code",
   "execution_count": 5,
   "id": "2efd052b-cff8-48e6-b214-0ec590f102cd",
   "metadata": {},
   "outputs": [
    {
     "data": {
      "text/plain": [
       "458"
      ]
     },
     "execution_count": 5,
     "metadata": {},
     "output_type": "execute_result"
    }
   ],
   "source": [
    " 0b111001010"
   ]
  },
  {
   "cell_type": "code",
   "execution_count": 7,
   "id": "a2190a01-9b63-4eff-8f94-16f2a6c8110b",
   "metadata": {},
   "outputs": [
    {
     "data": {
      "text/plain": [
       "465"
      ]
     },
     "execution_count": 7,
     "metadata": {},
     "output_type": "execute_result"
    }
   ],
   "source": [
    "0b111010001"
   ]
  },
  {
   "cell_type": "code",
   "execution_count": 10,
   "id": "54860113-6281-4f06-a4d3-7c6943c2d57a",
   "metadata": {},
   "outputs": [
    {
     "data": {
      "text/plain": [
       "245"
      ]
     },
     "execution_count": 10,
     "metadata": {},
     "output_type": "execute_result"
    }
   ],
   "source": [
    "0o365"
   ]
  },
  {
   "cell_type": "code",
   "execution_count": 12,
   "id": "d57c9963-ac37-4955-af34-2517eb01fd1f",
   "metadata": {},
   "outputs": [
    {
     "ename": "SyntaxError",
     "evalue": "invalid digit '2' in binary literal (2110840546.py, line 1)",
     "output_type": "error",
     "traceback": [
      "\u001b[1;36m  Cell \u001b[1;32mIn[12], line 1\u001b[1;36m\u001b[0m\n\u001b[1;33m    0b245\u001b[0m\n\u001b[1;37m      ^\u001b[0m\n\u001b[1;31mSyntaxError\u001b[0m\u001b[1;31m:\u001b[0m invalid digit '2' in binary literal\n"
     ]
    }
   ],
   "source": [
    "0b245"
   ]
  },
  {
   "cell_type": "code",
   "execution_count": 14,
   "id": "98e614fb-ed6c-4b01-81ba-475e78effeb8",
   "metadata": {},
   "outputs": [
    {
     "data": {
      "text/plain": [
       "229"
      ]
     },
     "execution_count": 14,
     "metadata": {},
     "output_type": "execute_result"
    }
   ],
   "source": [
    "0o345"
   ]
  },
  {
   "cell_type": "code",
   "execution_count": 16,
   "id": "609bf2fa-9543-4fd0-b6f9-f895934b7d11",
   "metadata": {},
   "outputs": [
    {
     "data": {
      "text/plain": [
       "213"
      ]
     },
     "execution_count": 16,
     "metadata": {},
     "output_type": "execute_result"
    }
   ],
   "source": [
    "0xD5"
   ]
  },
  {
   "cell_type": "code",
   "execution_count": 18,
   "id": "5d4a7dda-8226-4c37-9492-03b2457d2e17",
   "metadata": {},
   "outputs": [
    {
     "data": {
      "text/plain": [
       "11105"
      ]
     },
     "execution_count": 18,
     "metadata": {},
     "output_type": "execute_result"
    }
   ],
   "source": [
    " 0x2B61"
   ]
  },
  {
   "cell_type": "code",
   "execution_count": 20,
   "id": "632e93f8-21cd-4927-a585-21500775935e",
   "metadata": {},
   "outputs": [
    {
     "data": {
      "text/plain": [
       "6535"
      ]
     },
     "execution_count": 20,
     "metadata": {},
     "output_type": "execute_result"
    }
   ],
   "source": [
    "0x1987"
   ]
  },
  {
   "cell_type": "code",
   "execution_count": 22,
   "id": "745c2ae4-16c1-4b11-a461-f4c96263edc6",
   "metadata": {},
   "outputs": [
    {
     "data": {
      "text/plain": [
       "1207"
      ]
     },
     "execution_count": 22,
     "metadata": {},
     "output_type": "execute_result"
    }
   ],
   "source": [
    "0x4B7"
   ]
  },
  {
   "cell_type": "code",
   "execution_count": 24,
   "id": "3f9afdba-8448-409a-98e9-71500105bb9d",
   "metadata": {},
   "outputs": [
    {
     "ename": "SyntaxError",
     "evalue": "invalid digit '8' in octal literal (68592094.py, line 1)",
     "output_type": "error",
     "traceback": [
      "\u001b[1;36m  Cell \u001b[1;32mIn[24], line 1\u001b[1;36m\u001b[0m\n\u001b[1;33m    0o1248\u001b[0m\n\u001b[1;37m         ^\u001b[0m\n\u001b[1;31mSyntaxError\u001b[0m\u001b[1;31m:\u001b[0m invalid digit '8' in octal literal\n"
     ]
    }
   ],
   "source": [
    "0o1248"
   ]
  },
  {
   "cell_type": "code",
   "execution_count": 28,
   "id": "47950f38-6cff-4328-9294-1f71e1d33e99",
   "metadata": {},
   "outputs": [
    {
     "data": {
      "text/plain": [
       "1476"
      ]
     },
     "execution_count": 28,
     "metadata": {},
     "output_type": "execute_result"
    }
   ],
   "source": [
    "0x5C4"
   ]
  },
  {
   "cell_type": "code",
   "execution_count": 1,
   "id": "884f7af0-d6c6-45b2-b59b-96b63e56fa6d",
   "metadata": {},
   "outputs": [
    {
     "data": {
      "text/plain": [
       "10"
      ]
     },
     "execution_count": 1,
     "metadata": {},
     "output_type": "execute_result"
    }
   ],
   "source": [
    "0b1010"
   ]
  },
  {
   "cell_type": "code",
   "execution_count": 3,
   "id": "53a53a70-581f-4ac1-95b7-d07a5190485a",
   "metadata": {},
   "outputs": [
    {
     "data": {
      "text/plain": [
       "25"
      ]
     },
     "execution_count": 3,
     "metadata": {},
     "output_type": "execute_result"
    }
   ],
   "source": [
    "0b11001"
   ]
  },
  {
   "cell_type": "code",
   "execution_count": 5,
   "id": "b82214bb-b0aa-4a0a-9e94-61af2741605c",
   "metadata": {},
   "outputs": [
    {
     "data": {
      "text/plain": [
       "39"
      ]
     },
     "execution_count": 5,
     "metadata": {},
     "output_type": "execute_result"
    }
   ],
   "source": [
    "0b100111"
   ]
  },
  {
   "cell_type": "code",
   "execution_count": 7,
   "id": "5ddfb8f2-8938-4399-8c94-3a2f786d1afb",
   "metadata": {},
   "outputs": [
    {
     "data": {
      "text/plain": [
       "61"
      ]
     },
     "execution_count": 7,
     "metadata": {},
     "output_type": "execute_result"
    }
   ],
   "source": [
    "0b111101"
   ]
  },
  {
   "cell_type": "code",
   "execution_count": 9,
   "id": "d6831487-f0a6-43d1-b6e3-3bfe4d97c1e4",
   "metadata": {},
   "outputs": [
    {
     "data": {
      "text/plain": [
       "86"
      ]
     },
     "execution_count": 9,
     "metadata": {},
     "output_type": "execute_result"
    }
   ],
   "source": [
    "0b1010110"
   ]
  },
  {
   "cell_type": "code",
   "execution_count": 11,
   "id": "6d18b751-2433-446a-99ae-b9db75a81270",
   "metadata": {},
   "outputs": [
    {
     "data": {
      "text/plain": [
       "111"
      ]
     },
     "execution_count": 11,
     "metadata": {},
     "output_type": "execute_result"
    }
   ],
   "source": [
    "0b1101111"
   ]
  },
  {
   "cell_type": "code",
   "execution_count": 13,
   "id": "aa6bc868-7daf-49f9-8811-37ad460afc57",
   "metadata": {},
   "outputs": [
    {
     "data": {
      "text/plain": [
       "138"
      ]
     },
     "execution_count": 13,
     "metadata": {},
     "output_type": "execute_result"
    }
   ],
   "source": [
    "0b10001010"
   ]
  },
  {
   "cell_type": "code",
   "execution_count": 15,
   "id": "d084b263-a164-4b43-bcd8-51136e86808c",
   "metadata": {},
   "outputs": [
    {
     "data": {
      "text/plain": [
       "240"
      ]
     },
     "execution_count": 15,
     "metadata": {},
     "output_type": "execute_result"
    }
   ],
   "source": [
    "0b11110000"
   ]
  },
  {
   "cell_type": "code",
   "execution_count": 17,
   "id": "d19aa1bd-bad4-4a2c-8903-bba627235b3e",
   "metadata": {},
   "outputs": [
    {
     "data": {
      "text/plain": [
       "341"
      ]
     },
     "execution_count": 17,
     "metadata": {},
     "output_type": "execute_result"
    }
   ],
   "source": [
    "0b101010101"
   ]
  },
  {
   "cell_type": "code",
   "execution_count": 19,
   "id": "7b3908fe-9609-4483-b0ac-468d70392db3",
   "metadata": {},
   "outputs": [
    {
     "data": {
      "text/plain": [
       "1023"
      ]
     },
     "execution_count": 19,
     "metadata": {},
     "output_type": "execute_result"
    }
   ],
   "source": [
    "0b1111111111"
   ]
  },
  {
   "cell_type": "code",
   "execution_count": 21,
   "id": "e8fc22cc-fc04-49ed-8f0f-c783b46bcdec",
   "metadata": {},
   "outputs": [
    {
     "data": {
      "text/plain": [
       "26"
      ]
     },
     "execution_count": 21,
     "metadata": {},
     "output_type": "execute_result"
    }
   ],
   "source": [
    "0x1A"
   ]
  },
  {
   "cell_type": "code",
   "execution_count": 23,
   "id": "9729d9fc-7b9c-49ae-ba39-3d7b9c8fadcd",
   "metadata": {},
   "outputs": [
    {
     "data": {
      "text/plain": [
       "47"
      ]
     },
     "execution_count": 23,
     "metadata": {},
     "output_type": "execute_result"
    }
   ],
   "source": [
    "0X2F"
   ]
  },
  {
   "cell_type": "code",
   "execution_count": 25,
   "id": "e71e8277-6bb4-4e41-8ec1-5c6760eb563f",
   "metadata": {},
   "outputs": [
    {
     "data": {
      "text/plain": [
       "967"
      ]
     },
     "execution_count": 25,
     "metadata": {},
     "output_type": "execute_result"
    }
   ],
   "source": [
    "0x3c7"
   ]
  },
  {
   "cell_type": "code",
   "execution_count": 27,
   "id": "d376be10-1cb2-4881-ac25-3aae9074ca88",
   "metadata": {},
   "outputs": [
    {
     "data": {
      "text/plain": [
       "1241"
      ]
     },
     "execution_count": 27,
     "metadata": {},
     "output_type": "execute_result"
    }
   ],
   "source": [
    "0x4d9"
   ]
  },
  {
   "cell_type": "code",
   "execution_count": 29,
   "id": "352ade72-514b-448c-81c3-1d95ea3deabf",
   "metadata": {},
   "outputs": [
    {
     "data": {
      "text/plain": [
       "2034"
      ]
     },
     "execution_count": 29,
     "metadata": {},
     "output_type": "execute_result"
    }
   ],
   "source": [
    "0x7f2"
   ]
  },
  {
   "cell_type": "code",
   "execution_count": 31,
   "id": "0ce1b581-65e6-4fcf-b473-81a9e0548fb1",
   "metadata": {},
   "outputs": [
    {
     "ename": "NameError",
     "evalue": "name 'oxabc' is not defined",
     "output_type": "error",
     "traceback": [
      "\u001b[1;31m---------------------------------------------------------------------------\u001b[0m",
      "\u001b[1;31mNameError\u001b[0m                                 Traceback (most recent call last)",
      "Cell \u001b[1;32mIn[31], line 1\u001b[0m\n\u001b[1;32m----> 1\u001b[0m oxabc\n",
      "\u001b[1;31mNameError\u001b[0m: name 'oxabc' is not defined"
     ]
    }
   ],
   "source": [
    "oxabc"
   ]
  },
  {
   "cell_type": "code",
   "execution_count": 33,
   "id": "18d84006-013c-44ab-99a7-5af583b873e5",
   "metadata": {},
   "outputs": [
    {
     "data": {
      "text/plain": [
       "2748"
      ]
     },
     "execution_count": 33,
     "metadata": {},
     "output_type": "execute_result"
    }
   ],
   "source": [
    "0xabc"
   ]
  },
  {
   "cell_type": "code",
   "execution_count": 35,
   "id": "2e28026d-12b0-4754-b772-5fc4ac980cde",
   "metadata": {},
   "outputs": [
    {
     "data": {
      "text/plain": [
       "483"
      ]
     },
     "execution_count": 35,
     "metadata": {},
     "output_type": "execute_result"
    }
   ],
   "source": [
    "0x1e3"
   ]
  },
  {
   "cell_type": "code",
   "execution_count": 37,
   "id": "e939b607-0a59-48ae-9339-2850a78b94d1",
   "metadata": {},
   "outputs": [
    {
     "data": {
      "text/plain": [
       "271"
      ]
     },
     "execution_count": 37,
     "metadata": {},
     "output_type": "execute_result"
    }
   ],
   "source": [
    "0x10f"
   ]
  },
  {
   "cell_type": "code",
   "execution_count": 39,
   "id": "4e104433-5379-47bf-bc04-1d61bf64364c",
   "metadata": {},
   "outputs": [
    {
     "data": {
      "text/plain": [
       "255"
      ]
     },
     "execution_count": 39,
     "metadata": {},
     "output_type": "execute_result"
    }
   ],
   "source": [
    "0xff"
   ]
  },
  {
   "cell_type": "code",
   "execution_count": 41,
   "id": "c34bf234-4d1e-4218-adbd-240a8161df2a",
   "metadata": {},
   "outputs": [
    {
     "data": {
      "text/plain": [
       "4095"
      ]
     },
     "execution_count": 41,
     "metadata": {},
     "output_type": "execute_result"
    }
   ],
   "source": [
    "0xfff"
   ]
  },
  {
   "cell_type": "code",
   "execution_count": 43,
   "id": "dde12c16-851d-4e0e-b0a0-8359c727a214",
   "metadata": {},
   "outputs": [
    {
     "data": {
      "text/plain": [
       "235"
      ]
     },
     "execution_count": 43,
     "metadata": {},
     "output_type": "execute_result"
    }
   ],
   "source": [
    "0b11101011"
   ]
  },
  {
   "cell_type": "code",
   "execution_count": 45,
   "id": "c7d445d0-b114-47a3-872e-964e5de334b7",
   "metadata": {},
   "outputs": [
    {
     "data": {
      "text/plain": [
       "1015"
      ]
     },
     "execution_count": 45,
     "metadata": {},
     "output_type": "execute_result"
    }
   ],
   "source": [
    "0x3f7"
   ]
  },
  {
   "cell_type": "code",
   "execution_count": 47,
   "id": "45222909-ef03-4457-b43f-f8fa4c158614",
   "metadata": {},
   "outputs": [
    {
     "data": {
      "text/plain": [
       "365"
      ]
     },
     "execution_count": 47,
     "metadata": {},
     "output_type": "execute_result"
    }
   ],
   "source": [
    "0b101101101"
   ]
  },
  {
   "cell_type": "code",
   "execution_count": 49,
   "id": "877e2f3c-b83b-425f-ad62-d15beed58802",
   "metadata": {},
   "outputs": [
    {
     "data": {
      "text/plain": [
       "7500"
      ]
     },
     "execution_count": 49,
     "metadata": {},
     "output_type": "execute_result"
    }
   ],
   "source": [
    "0x1d4c"
   ]
  },
  {
   "cell_type": "markdown",
   "id": "88facb5e-637c-486a-b1da-db7831ed30f4",
   "metadata": {},
   "source": [
    "**boolean**"
   ]
  },
  {
   "cell_type": "code",
   "execution_count": 2,
   "id": "2b390db0-f097-46e5-9bb6-9f45cf657cd3",
   "metadata": {},
   "outputs": [
    {
     "data": {
      "text/plain": [
       "True"
      ]
     },
     "execution_count": 2,
     "metadata": {},
     "output_type": "execute_result"
    }
   ],
   "source": [
    "val=True\n",
    "val"
   ]
  },
  {
   "cell_type": "code",
   "execution_count": 4,
   "id": "cf0ee3a1-dd38-4397-9c0c-0929fcab848c",
   "metadata": {},
   "outputs": [
    {
     "data": {
      "text/plain": [
       "bool"
      ]
     },
     "execution_count": 4,
     "metadata": {},
     "output_type": "execute_result"
    }
   ],
   "source": [
    "type(val)"
   ]
  },
  {
   "cell_type": "code",
   "execution_count": 6,
   "id": "5706f1e7-7012-499f-93ce-56c0793a7002",
   "metadata": {},
   "outputs": [
    {
     "data": {
      "text/plain": [
       "bool"
      ]
     },
     "execution_count": 6,
     "metadata": {},
     "output_type": "execute_result"
    }
   ],
   "source": [
    "val1=False\n",
    "type(val1)"
   ]
  },
  {
   "cell_type": "markdown",
   "id": "a54e9e0e-a571-481d-952d-ab5ef06ea82c",
   "metadata": {},
   "source": [
    "**Strings**"
   ]
  },
  {
   "cell_type": "markdown",
   "id": "24b76120-f8dd-4da5-b31b-618526a41b11",
   "metadata": {},
   "source": [
    "- English format representation\n",
    "- Strings represent with quotes\n",
    "- we canuse single quotes, double quotes also triple quotes"
   ]
  },
  {
   "cell_type": "code",
   "execution_count": 12,
   "id": "4c11da84-e9c9-4d4b-b78a-eb1fe8ef4454",
   "metadata": {},
   "outputs": [
    {
     "data": {
      "text/plain": [
       "'python'"
      ]
     },
     "execution_count": 12,
     "metadata": {},
     "output_type": "execute_result"
    }
   ],
   "source": [
    "name='python'\n",
    "name"
   ]
  },
  {
   "cell_type": "code",
   "execution_count": 14,
   "id": "18e2dbaf-8011-41e2-94ca-a15a0195339d",
   "metadata": {},
   "outputs": [
    {
     "data": {
      "text/plain": [
       "str"
      ]
     },
     "execution_count": 14,
     "metadata": {},
     "output_type": "execute_result"
    }
   ],
   "source": [
    "type(name)"
   ]
  },
  {
   "cell_type": "code",
   "execution_count": 16,
   "id": "a5397348-b20b-4379-b04c-6c5060807cff",
   "metadata": {},
   "outputs": [
    {
     "name": "stdout",
     "output_type": "stream",
     "text": [
      "python\n"
     ]
    }
   ],
   "source": [
    "print(name)\n",
    "#when we print we will not able to see the quotes"
   ]
  },
  {
   "cell_type": "code",
   "execution_count": 18,
   "id": "6a5e0072-09b6-40ec-aaca-e110a2ee9fea",
   "metadata": {},
   "outputs": [
    {
     "data": {
      "text/plain": [
       "str"
      ]
     },
     "execution_count": 18,
     "metadata": {},
     "output_type": "execute_result"
    }
   ],
   "source": [
    "val='10'\n",
    "type(val)"
   ]
  },
  {
   "cell_type": "code",
   "execution_count": 20,
   "id": "168d281a-e044-4ce6-ae42-78581bac791a",
   "metadata": {},
   "outputs": [
    {
     "data": {
      "text/plain": [
       "int"
      ]
     },
     "execution_count": 20,
     "metadata": {},
     "output_type": "execute_result"
    }
   ],
   "source": [
    "val1=10\n",
    "type(val1)"
   ]
  },
  {
   "cell_type": "code",
   "execution_count": 22,
   "id": "9a2e2e90-c3a1-46a1-bfc7-eaf377da1115",
   "metadata": {},
   "outputs": [
    {
     "data": {
      "text/plain": [
       "'Renuka'"
      ]
     },
     "execution_count": 22,
     "metadata": {},
     "output_type": "execute_result"
    }
   ],
   "source": [
    "name=\"Renuka\"\n",
    "name\n",
    "#but the output displayed as single quotes"
   ]
  },
  {
   "cell_type": "code",
   "execution_count": 24,
   "id": "186fb700-fe08-4b1b-ab08-04e5f420dc1a",
   "metadata": {},
   "outputs": [
    {
     "data": {
      "text/plain": [
       "str"
      ]
     },
     "execution_count": 24,
     "metadata": {},
     "output_type": "execute_result"
    }
   ],
   "source": [
    "type(name)"
   ]
  },
  {
   "cell_type": "code",
   "execution_count": 26,
   "id": "339227bf-3570-4d6f-9537-df4c4891b2cd",
   "metadata": {},
   "outputs": [
    {
     "name": "stdout",
     "output_type": "stream",
     "text": [
      "Renuka\n"
     ]
    }
   ],
   "source": [
    "print(name)"
   ]
  },
  {
   "cell_type": "code",
   "execution_count": 36,
   "id": "efd493a1-2c82-42bf-b6b3-535180fcf186",
   "metadata": {},
   "outputs": [
    {
     "name": "stdout",
     "output_type": "stream",
     "text": [
      "i love'Python'\n"
     ]
    }
   ],
   "source": [
    "str=\"i love'Python'\"\n",
    "print(str)"
   ]
  },
  {
   "cell_type": "code",
   "execution_count": 38,
   "id": "6fa2b337-e91a-45da-9ef7-6e136faffe73",
   "metadata": {},
   "outputs": [
    {
     "name": "stdout",
     "output_type": "stream",
     "text": [
      "i love \"Python\"\n"
     ]
    }
   ],
   "source": [
    "str='i love \"Python\"'\n",
    "print(str)"
   ]
  },
  {
   "cell_type": "markdown",
   "id": "1fe5d88f-a23e-4a9c-a45f-0adcf55a2cb3",
   "metadata": {},
   "source": [
    "- keep the entire string in Double quotes then highlight the word with single quote vice-versa"
   ]
  },
  {
   "cell_type": "markdown",
   "id": "cfa345d2-1161-42b9-8caf-6330afe78514",
   "metadata": {},
   "source": [
    "**Triple Quotes**\n",
    "- Triple quotes are not used in coding part\n",
    "- Triple quotes means conveying the information\n",
    "- this process is called as **Doc String**\n",
    "- in jupyter notebook we have markdown option\n",
    "- but in vscode or pycharm there is no markdown option\n",
    "- so user will convey the information by providing triple quotes"
   ]
  },
  {
   "cell_type": "code",
   "execution_count": null,
   "id": "8b771657-f23e-46da-9b88-c0ca22cf9476",
   "metadata": {},
   "outputs": [],
   "source": [
    "\"\"\"hai\n",
    "today im learning python\n",
    "its easy\"\"\""
   ]
  },
  {
   "cell_type": "code",
   "execution_count": null,
   "id": "0cdd21b3-da47-483f-a575-34ff7e17d85d",
   "metadata": {},
   "outputs": [],
   "source": [
    "true=True #works\n",
    "true='True' #works\n",
    "true=10.5 #works\n",
    "True=10 #fails\n",
    "True=True #fails"
   ]
  }
 ],
 "metadata": {
  "kernelspec": {
   "display_name": "Python [conda env:base] *",
   "language": "python",
   "name": "conda-base-py"
  },
  "language_info": {
   "codemirror_mode": {
    "name": "ipython",
    "version": 3
   },
   "file_extension": ".py",
   "mimetype": "text/x-python",
   "name": "python",
   "nbconvert_exporter": "python",
   "pygments_lexer": "ipython3",
   "version": "3.12.7"
  }
 },
 "nbformat": 4,
 "nbformat_minor": 5
}
