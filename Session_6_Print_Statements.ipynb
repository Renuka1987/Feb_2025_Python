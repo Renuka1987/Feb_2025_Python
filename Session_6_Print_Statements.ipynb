{
 "cells": [
  {
   "cell_type": "code",
   "execution_count": 1,
   "id": "537643fb-cce7-4d25-a2c6-04a439327be4",
   "metadata": {},
   "outputs": [
    {
     "data": {
      "text/plain": [
       "20"
      ]
     },
     "execution_count": 1,
     "metadata": {},
     "output_type": "execute_result"
    }
   ],
   "source": [
    "a=10\n",
    "b=20\n",
    "a\n",
    "b"
   ]
  },
  {
   "cell_type": "code",
   "execution_count": 3,
   "id": "41e8fac6-aa39-4cd0-ab58-0cfe25b94e7c",
   "metadata": {},
   "outputs": [
    {
     "name": "stdout",
     "output_type": "stream",
     "text": [
      "10\n",
      "20\n"
     ]
    }
   ],
   "source": [
    "a=10\n",
    "b=20\n",
    "print(a)\n",
    "print(b)"
   ]
  },
  {
   "cell_type": "code",
   "execution_count": 10,
   "id": "21b01a1c-51b6-4782-8e91-14f3e675f68b",
   "metadata": {},
   "outputs": [
    {
     "name": "stdout",
     "output_type": "stream",
     "text": [
      "10\n",
      "20\n"
     ]
    },
    {
     "data": {
      "text/plain": [
       "(None, None)"
      ]
     },
     "execution_count": 10,
     "metadata": {},
     "output_type": "execute_result"
    }
   ],
   "source": [
    "print(10),print(20)"
   ]
  },
  {
   "cell_type": "code",
   "execution_count": 12,
   "id": "16fbd2d3-1c70-484b-967d-67361e5ba138",
   "metadata": {},
   "outputs": [
    {
     "data": {
      "text/plain": [
       "(10, 20)"
      ]
     },
     "execution_count": 12,
     "metadata": {},
     "output_type": "execute_result"
    }
   ],
   "source": [
    "10,20"
   ]
  },
  {
   "cell_type": "code",
   "execution_count": 14,
   "id": "4af3a209-bbd5-4c92-bbfc-2fa0a1ea7c25",
   "metadata": {},
   "outputs": [
    {
     "name": "stdout",
     "output_type": "stream",
     "text": [
      "10 20\n"
     ]
    }
   ],
   "source": [
    "print(a,b)"
   ]
  },
  {
   "cell_type": "code",
   "execution_count": 16,
   "id": "1896d703-ed27-4ff7-8938-01ccea7a3682",
   "metadata": {},
   "outputs": [
    {
     "name": "stdout",
     "output_type": "stream",
     "text": [
      "30 Renuka 486.9\n"
     ]
    }
   ],
   "source": [
    "print(30,'Renuka',486.9)"
   ]
  },
  {
   "cell_type": "code",
   "execution_count": 18,
   "id": "035257ca-2ec9-4ea8-99a3-b010986d1096",
   "metadata": {},
   "outputs": [
    {
     "name": "stdout",
     "output_type": "stream",
     "text": [
      "the addition of 100 and 200 is 300\n",
      "the addition of num1 and num2 is 300\n",
      "the addition of 100 and 200 is 300\n"
     ]
    }
   ],
   "source": [
    "num1=100\n",
    "num2=200\n",
    "add=num1+num2\n",
    "#the addition of 100 and 200 is 300\n",
    "print(\"the addition of 100 and 200 is 300\")\n",
    "print(\"the addition of num1 and num2 is 300\")\n",
    "print(\"the addition of\",num1, \"and\",num2,\"is\",add)"
   ]
  },
  {
   "cell_type": "code",
   "execution_count": 20,
   "id": "908917f0-4a9d-4dba-9ea5-e1566955c050",
   "metadata": {},
   "outputs": [
    {
     "name": "stdout",
     "output_type": "stream",
     "text": [
      "my name is python im 10 years old came from hyd\n"
     ]
    }
   ],
   "source": [
    "name=\"python\"\n",
    "age=10\n",
    "city=\"hyd\"\n",
    "#my name is python im 10years old came from hyd\n",
    "print(\"my name is\",name,\"im\",age,\"years old came from\",city) "
   ]
  },
  {
   "cell_type": "markdown",
   "id": "cbfcd5b3-4180-4714-8556-a6b478db813b",
   "metadata": {},
   "source": [
    "**format()**"
   ]
  },
  {
   "cell_type": "code",
   "execution_count": 23,
   "id": "8e5a2a10-1d6c-4e37-b012-713174f97881",
   "metadata": {},
   "outputs": [
    {
     "name": "stdout",
     "output_type": "stream",
     "text": [
      "my name is python im 10 years old came from hyd\n"
     ]
    }
   ],
   "source": [
    "name=\"python\"\n",
    "age=10\n",
    "city=\"hyd\"\n",
    "#my name is python im 10years old came from hyd\n",
    "print(\"my name is {} im {} years old came from {}\".format(name,age,city)) "
   ]
  },
  {
   "cell_type": "code",
   "execution_count": 25,
   "id": "05356ac0-f15f-4871-9ff4-0c38da7bc561",
   "metadata": {},
   "outputs": [
    {
     "name": "stdout",
     "output_type": "stream",
     "text": [
      "the addition of 100 and 200 is 300\n",
      "The addition of 100 and 200 is 300\n"
     ]
    }
   ],
   "source": [
    "num1=100\n",
    "num2=200\n",
    "add=num1+num2\n",
    "#the addition of 100 and 200 is 300\n",
    "print(\"the addition of 100 and 200 is 300\")\n",
    "print(\"The addition of {} and {} is {}\".format(num1,num2,add))"
   ]
  },
  {
   "cell_type": "code",
   "execution_count": 27,
   "id": "04bf8f71-cfd0-4caa-a22c-401f145933de",
   "metadata": {},
   "outputs": [
    {
     "name": "stdout",
     "output_type": "stream",
     "text": [
      "the subtraction of 100 and 200 is -100\n"
     ]
    }
   ],
   "source": [
    "num1=100\n",
    "num2=200\n",
    "sub=num1-num2\n",
    "#the subtraction of 100 and 200 is -100\n",
    "print(\"the subtraction of {} and {} is {}\".format(num1,num2,sub))"
   ]
  },
  {
   "cell_type": "code",
   "execution_count": 29,
   "id": "087faf85-6564-40e3-b55f-c6c5e84ac34c",
   "metadata": {},
   "outputs": [
    {
     "name": "stdout",
     "output_type": "stream",
     "text": [
      "The multiplication of 100 and 200 is 20000\n"
     ]
    }
   ],
   "source": [
    "num1=100\n",
    "num2=200\n",
    "mul=num1*num2\n",
    "#The multiplication of 100 and 200 is 20000\n",
    "print(\"The multiplication of {} and {} is {}\".format(num1,num2,mul))"
   ]
  },
  {
   "cell_type": "code",
   "execution_count": 31,
   "id": "be1f52e1-1b65-437c-ab05-bf6f2c2cf9a4",
   "metadata": {},
   "outputs": [
    {
     "name": "stdout",
     "output_type": "stream",
     "text": [
      "The division of 100 and 200 is 0.5\n"
     ]
    }
   ],
   "source": [
    "num1=100\n",
    "num2=200\n",
    "div=num1/num2\n",
    "#The division of 100 and 200 is 0.5\n",
    "print(\"The division of {} and {} is {}\".format(num1,num2,div))"
   ]
  },
  {
   "cell_type": "code",
   "execution_count": 33,
   "id": "f1d27ca4-8598-4d93-89a6-f64053ba87cc",
   "metadata": {},
   "outputs": [
    {
     "name": "stdout",
     "output_type": "stream",
     "text": [
      "The average of 10,20,30 is 20.0\n"
     ]
    }
   ],
   "source": [
    "a=10\n",
    "b=20\n",
    "c=30\n",
    "avg=(a+b+c)/3\n",
    "print(\"The average of {},{},{} is {}\".format(a,b,c,avg))"
   ]
  },
  {
   "cell_type": "code",
   "execution_count": 35,
   "id": "7706e120-7ce4-45d3-bbbf-7e7eb176c4f3",
   "metadata": {},
   "outputs": [
    {
     "name": "stdout",
     "output_type": "stream",
     "text": [
      "=========================ADDITION===========================================\n",
      "the addition of 100 and 200 is 300\n",
      "The addition of 100 and 200 is 300\n",
      "========================SUBTRACTION==================================\n",
      "the subtraction of 100 and 200 is -100\n",
      "========================MULTIPLICATION==================================\n",
      "The multiplication of 100 and 200 is 20000\n",
      "=========================DIVISION=================================\n",
      "The division of 100 and 200 is 0.5\n",
      "==========================AVERAGE================================\n",
      "The average of 10,20,30 is 20.0\n"
     ]
    }
   ],
   "source": [
    "\n",
    "print(\"=========================ADDITION===========================================\")\n",
    "num1=100\n",
    "num2=200\n",
    "add=num1+num2\n",
    "#the addition of 100 and 200 is 300\n",
    "print(\"the addition of 100 and 200 is 300\")\n",
    "print(\"The addition of {} and {} is {}\".format(num1,num2,add))\n",
    "\n",
    "print(\"========================SUBTRACTION==================================\")\n",
    "\n",
    "num1=100\n",
    "num2=200\n",
    "sub=num1-num2\n",
    "#the subtraction of 100 and 200 is -100\n",
    "print(\"the subtraction of {} and {} is {}\".format(num1,num2,sub))\n",
    "\n",
    "print(\"========================MULTIPLICATION==================================\")\n",
    "\n",
    "num1=100\n",
    "num2=200\n",
    "mul=num1*num2\n",
    "#The multiplication of 100 and 200 is 20000\n",
    "print(\"The multiplication of {} and {} is {}\".format(num1,num2,mul))\n",
    "\n",
    "print(\"=========================DIVISION=================================\")\n",
    "\n",
    "num1=100\n",
    "num2=200\n",
    "div=num1/num2\n",
    "#The division of 100 and 200 is 0.5\n",
    "print(\"The division of {} and {} is {}\".format(num1,num2,div))\n",
    "\n",
    "print(\"==========================AVERAGE================================\")\n",
    "\n",
    "a=10\n",
    "b=20\n",
    "c=30\n",
    "avg=(a+b+c)/3\n",
    "print(\"The average of {},{},{} is {}\".format(a,b,c,avg))"
   ]
  },
  {
   "cell_type": "code",
   "execution_count": 37,
   "id": "f7c29ca6-4631-48b9-8681-6ddb3890ad5b",
   "metadata": {},
   "outputs": [
    {
     "name": "stdout",
     "output_type": "stream",
     "text": [
      "The addition of 100 and 200 is 300\n"
     ]
    }
   ],
   "source": [
    "num1=100\n",
    "num2=200\n",
    "add=num1+num2\n",
    "print(f\"The addition of {num1} and {num2} is {add}\")"
   ]
  },
  {
   "cell_type": "markdown",
   "id": "8ea648d6-cd6c-4f3f-bfe9-37e157d52310",
   "metadata": {},
   "source": [
    "**formated string**"
   ]
  },
  {
   "cell_type": "code",
   "execution_count": 42,
   "id": "dec244b8-0960-493d-806b-07a9b47cba3f",
   "metadata": {},
   "outputs": [
    {
     "name": "stdout",
     "output_type": "stream",
     "text": [
      "the addition of 100 and 200 is 300\n"
     ]
    }
   ],
   "source": [
    "num1=100\n",
    "num2=200\n",
    "add=num1+num2\n",
    "print(f\"the addition of {num1} and {num2} is {add}\")"
   ]
  },
  {
   "cell_type": "code",
   "execution_count": 48,
   "id": "db63c9e5-a45f-438f-b6d6-4dfcbb331746",
   "metadata": {},
   "outputs": [
    {
     "name": "stdout",
     "output_type": "stream",
     "text": [
      "the subtraction of 100 and 200 is -100\n"
     ]
    }
   ],
   "source": [
    "num1=100\n",
    "num2=200\n",
    "sub=num1-num2\n",
    "#the subtraction of 100 and 200 is -100\n",
    "print(f\"the subtraction of {num1} and {num2} is {sub}\")"
   ]
  },
  {
   "cell_type": "code",
   "execution_count": 52,
   "id": "80a761d9-3a2f-4ea4-bb1f-58109d5fdc3d",
   "metadata": {},
   "outputs": [
    {
     "name": "stdout",
     "output_type": "stream",
     "text": [
      "The multiplication of 100 and 200 is 20000\n"
     ]
    }
   ],
   "source": [
    "num1=100\n",
    "num2=200\n",
    "mul=num1*num2\n",
    "#The multiplication of 100 and 200 is 20000\n",
    "print(f\"The multiplication of {num1} and {num2} is {mul}\")"
   ]
  },
  {
   "cell_type": "code",
   "execution_count": 54,
   "id": "d88ca999-01eb-48bc-81c7-51ad61982e76",
   "metadata": {},
   "outputs": [
    {
     "name": "stdout",
     "output_type": "stream",
     "text": [
      "The division of 100 and 200 is 0.5\n"
     ]
    }
   ],
   "source": [
    "num1=100\n",
    "num2=200\n",
    "div=num1/num2\n",
    "#The division of 100 and 200 is 0.5\n",
    "print(f\"The division of {num1} and {num2} is {div}\")"
   ]
  },
  {
   "cell_type": "code",
   "execution_count": 56,
   "id": "156404aa-2cba-49a4-9b2d-dfa03ab9e680",
   "metadata": {},
   "outputs": [
    {
     "name": "stdout",
     "output_type": "stream",
     "text": [
      "The average of 10,20,30 is 20.0\n"
     ]
    }
   ],
   "source": [
    "a=10\n",
    "b=20\n",
    "c=30\n",
    "avg=(a+b+c)/3\n",
    "print(f\"The average of {a},{b},{c} is {avg}\")"
   ]
  },
  {
   "cell_type": "code",
   "execution_count": 60,
   "id": "622ab04d-d151-49c4-9449-dd875dc201d2",
   "metadata": {},
   "outputs": [
    {
     "name": "stdout",
     "output_type": "stream",
     "text": [
      "11\n",
      "10.89\n",
      "10.889\n"
     ]
    }
   ],
   "source": [
    "print(round(10.88888))\n",
    "print(round(10.88888,2))\n",
    "print(round(10.888888,3))"
   ]
  },
  {
   "cell_type": "code",
   "execution_count": 64,
   "id": "6a5c498f-258c-4963-bc34-6ebb9c999fe5",
   "metadata": {},
   "outputs": [
    {
     "name": "stdout",
     "output_type": "stream",
     "text": [
      "21.0\n",
      "21.0\n"
     ]
    }
   ],
   "source": [
    "a=13\n",
    "b=20\n",
    "c=30\n",
    "avg=(a+b+c)/3\n",
    "print(round(avg,2))\n",
    "avg1=round(avg,2)\n",
    "print(avg1)"
   ]
  },
  {
   "cell_type": "markdown",
   "id": "59a706e6-6472-4cc9-903d-5ab5d7d26f05",
   "metadata": {},
   "source": [
    "**I have multiple print statements but i want to show in single line**"
   ]
  },
  {
   "cell_type": "code",
   "execution_count": 67,
   "id": "b1016a17-2950-4b08-add9-5c10fe128082",
   "metadata": {},
   "outputs": [
    {
     "name": "stdout",
     "output_type": "stream",
     "text": [
      "10\n",
      "20\n"
     ]
    }
   ],
   "source": [
    "print(10)\n",
    "print(20)"
   ]
  },
  {
   "cell_type": "code",
   "execution_count": 69,
   "id": "fcf5eae8-1690-42ec-a2d5-0a5aeff6a3f0",
   "metadata": {},
   "outputs": [
    {
     "name": "stdout",
     "output_type": "stream",
     "text": [
      "10 20\n"
     ]
    }
   ],
   "source": [
    "print(10,20)"
   ]
  },
  {
   "cell_type": "markdown",
   "id": "ef662f65-0081-41d5-9a1d-c03b8ddd4151",
   "metadata": {},
   "source": [
    "**End Operator**"
   ]
  },
  {
   "cell_type": "code",
   "execution_count": 72,
   "id": "f0bd52a6-02fe-4e70-857a-22915157124d",
   "metadata": {},
   "outputs": [
    {
     "name": "stdout",
     "output_type": "stream",
     "text": [
      "1020\n"
     ]
    }
   ],
   "source": [
    "print(10,end=\"\") #if space is not provided\n",
    "print(20)"
   ]
  },
  {
   "cell_type": "code",
   "execution_count": 74,
   "id": "ed30b9dc-890a-41dd-870d-dca2d5d8ce0e",
   "metadata": {},
   "outputs": [
    {
     "name": "stdout",
     "output_type": "stream",
     "text": [
      "10 20\n"
     ]
    }
   ],
   "source": [
    "print(10,end=\" \") #if one space is provided\n",
    "print(20)"
   ]
  },
  {
   "cell_type": "code",
   "execution_count": 76,
   "id": "2376650b-b3ef-41b4-8d15-db288358bec0",
   "metadata": {},
   "outputs": [
    {
     "name": "stdout",
     "output_type": "stream",
     "text": [
      "10  20  30\n"
     ]
    }
   ],
   "source": [
    "print(10,end=\"  \") #if two spaces is provided,the output is______\n",
    "print(20,end=\"  \")\n",
    "print(30)"
   ]
  },
  {
   "cell_type": "code",
   "execution_count": 80,
   "id": "bbc8ad19-baa4-42e4-9bf9-9e16ddbb4aa6",
   "metadata": {},
   "outputs": [
    {
     "name": "stdout",
     "output_type": "stream",
     "text": [
      "hello how are you\n"
     ]
    }
   ],
   "source": [
    "print('hello',end=\" \")\n",
    "print('how',end=\" \")\n",
    "print('are',end=\" \")\n",
    "print('you')"
   ]
  },
  {
   "cell_type": "markdown",
   "id": "d4b5c505-2fe4-4bac-b938-0a207f7788d3",
   "metadata": {},
   "source": [
    "**I have multiple values in a single print statement**\n",
    "\n",
    "**I want to print them with some seperation**"
   ]
  },
  {
   "cell_type": "code",
   "execution_count": 83,
   "id": "45ac9a6a-0324-466d-8099-5bf31a680240",
   "metadata": {},
   "outputs": [
    {
     "name": "stdout",
     "output_type": "stream",
     "text": [
      "10 20 30\n"
     ]
    }
   ],
   "source": [
    "print(10,20,30)"
   ]
  },
  {
   "cell_type": "code",
   "execution_count": 85,
   "id": "8dbe0182-0a8e-4b74-9916-c233064e39dd",
   "metadata": {},
   "outputs": [
    {
     "name": "stdout",
     "output_type": "stream",
     "text": [
      "10======>20======>30\n"
     ]
    }
   ],
   "source": [
    "print(10,20,30,sep='======>')"
   ]
  },
  {
   "cell_type": "code",
   "execution_count": 87,
   "id": "d5cb6fc4-53db-4820-bcfc-ed6467f48bc5",
   "metadata": {},
   "outputs": [
    {
     "name": "stdout",
     "output_type": "stream",
     "text": [
      "10     20     30\n"
     ]
    }
   ],
   "source": [
    "print(10,20,30,sep='     ')"
   ]
  },
  {
   "cell_type": "code",
   "execution_count": 99,
   "id": "74fa3652-0922-446e-bd79-0856e6108b09",
   "metadata": {},
   "outputs": [
    {
     "name": "stdout",
     "output_type": "stream",
     "text": [
      "The area of the circle is: 1962.5\n"
     ]
    }
   ],
   "source": [
    "radius=25\n",
    "pi=3.14\n",
    "area=pi*radius*radius\n",
    "print(f\"The area of the circle is: {area}\")\n"
   ]
  },
  {
   "cell_type": "code",
   "execution_count": 93,
   "id": "a4e8bbd9-0b7d-4a4e-a734-8b94560eabe4",
   "metadata": {},
   "outputs": [
    {
     "data": {
      "text/plain": [
       "1962.5"
      ]
     },
     "execution_count": 93,
     "metadata": {},
     "output_type": "execute_result"
    }
   ],
   "source": [
    "area"
   ]
  },
  {
   "cell_type": "code",
   "execution_count": null,
   "id": "69d98dcb-eb4f-4166-b651-fbf4080ea974",
   "metadata": {},
   "outputs": [],
   "source": []
  }
 ],
 "metadata": {
  "kernelspec": {
   "display_name": "Python [conda env:base] *",
   "language": "python",
   "name": "conda-base-py"
  },
  "language_info": {
   "codemirror_mode": {
    "name": "ipython",
    "version": 3
   },
   "file_extension": ".py",
   "mimetype": "text/x-python",
   "name": "python",
   "nbconvert_exporter": "python",
   "pygments_lexer": "ipython3",
   "version": "3.12.7"
  }
 },
 "nbformat": 4,
 "nbformat_minor": 5
}
