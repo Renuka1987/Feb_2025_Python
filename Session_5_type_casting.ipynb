{
 "cells": [
  {
   "cell_type": "markdown",
   "id": "2cb0aa2c-a39b-45a4-8778-8e13aa113cd1",
   "metadata": {},
   "source": [
    "**Type casting** \n",
    "- Convert one data type to another data type\n",
    "- we learned 4 data types\n",
    "    - integer: int\n",
    "    - float: float\n",
    "    - boolean: bool\n",
    "    - string: str"
   ]
  },
  {
   "cell_type": "markdown",
   "id": "d3625e2c-fab4-4f1a-b0ed-b88f0e98f6de",
   "metadata": {},
   "source": [
    "**int to other data types**"
   ]
  },
  {
   "cell_type": "code",
   "execution_count": 5,
   "id": "9ee5d815-e8a8-4535-ac64-2a2c106cb0f4",
   "metadata": {},
   "outputs": [
    {
     "data": {
      "text/plain": [
       "int"
      ]
     },
     "execution_count": 5,
     "metadata": {},
     "output_type": "execute_result"
    }
   ],
   "source": [
    "number=100\n",
    "type(number)"
   ]
  },
  {
   "cell_type": "code",
   "execution_count": 7,
   "id": "88975335-cfe5-4bb7-b15f-23cd732a753d",
   "metadata": {},
   "outputs": [
    {
     "data": {
      "text/plain": [
       "float"
      ]
     },
     "execution_count": 7,
     "metadata": {},
     "output_type": "execute_result"
    }
   ],
   "source": [
    "float_number=float(number)\n",
    "type(float_number)"
   ]
  },
  {
   "cell_type": "code",
   "execution_count": 9,
   "id": "c01386d5-74b9-4d46-9342-9a15f247ae40",
   "metadata": {},
   "outputs": [
    {
     "data": {
      "text/plain": [
       "bool"
      ]
     },
     "execution_count": 9,
     "metadata": {},
     "output_type": "execute_result"
    }
   ],
   "source": [
    "bool_number=bool(number)\n",
    "type(bool_number)"
   ]
  },
  {
   "cell_type": "code",
   "execution_count": 11,
   "id": "30ed4e58-454d-47ea-b125-2a5ec02835bf",
   "metadata": {},
   "outputs": [
    {
     "data": {
      "text/plain": [
       "str"
      ]
     },
     "execution_count": 11,
     "metadata": {},
     "output_type": "execute_result"
    }
   ],
   "source": [
    "str_number=str(number)\n",
    "type(str_number)"
   ]
  },
  {
   "cell_type": "code",
   "execution_count": 13,
   "id": "8945af46-9c48-4158-9553-8efa218a0040",
   "metadata": {},
   "outputs": [
    {
     "data": {
      "text/plain": [
       "(100.0, True, '100')"
      ]
     },
     "execution_count": 13,
     "metadata": {},
     "output_type": "execute_result"
    }
   ],
   "source": [
    "float(100),bool(100),str(100)"
   ]
  },
  {
   "cell_type": "code",
   "execution_count": 15,
   "id": "d21468ef-4a26-497f-aa84-6f63daae0836",
   "metadata": {},
   "outputs": [
    {
     "name": "stdout",
     "output_type": "stream",
     "text": [
      "100.0\n",
      "True\n",
      "100\n",
      "-100.0\n",
      "True\n",
      "100\n",
      "False\n"
     ]
    }
   ],
   "source": [
    "print(float(100))\n",
    "print(bool(100))\n",
    "print(str(100))\n",
    "print(float(-100))\n",
    "print(bool(-100))\n",
    "print(str(100))\n",
    "print(bool(0))"
   ]
  },
  {
   "cell_type": "markdown",
   "id": "c94f62e5-3a03-4c27-ae8d-631a62e318bf",
   "metadata": {},
   "source": [
    "- Zero means off\n",
    "- False means off"
   ]
  },
  {
   "cell_type": "markdown",
   "id": "d80f3808-cbec-4fa8-b259-a0b6d549f6ae",
   "metadata": {},
   "source": [
    "**Float to other data types**"
   ]
  },
  {
   "cell_type": "code",
   "execution_count": 19,
   "id": "251e0456-8a04-43dc-bad0-0980194dbb37",
   "metadata": {},
   "outputs": [
    {
     "data": {
      "text/plain": [
       "100"
      ]
     },
     "execution_count": 19,
     "metadata": {},
     "output_type": "execute_result"
    }
   ],
   "source": [
    "number=100.5\n",
    "int(number)"
   ]
  },
  {
   "cell_type": "code",
   "execution_count": 21,
   "id": "a5d29c60-b4bd-4f57-8706-cb36130d5acb",
   "metadata": {},
   "outputs": [
    {
     "data": {
      "text/plain": [
       "True"
      ]
     },
     "execution_count": 21,
     "metadata": {},
     "output_type": "execute_result"
    }
   ],
   "source": [
    "bool(number)"
   ]
  },
  {
   "cell_type": "code",
   "execution_count": 23,
   "id": "232d498e-f1d9-4872-b0e6-a05a98eafaec",
   "metadata": {},
   "outputs": [
    {
     "data": {
      "text/plain": [
       "'100.5'"
      ]
     },
     "execution_count": 23,
     "metadata": {},
     "output_type": "execute_result"
    }
   ],
   "source": [
    "str(number)"
   ]
  },
  {
   "cell_type": "code",
   "execution_count": 3,
   "id": "133574c6-ae4f-4027-aa20-32685295d75d",
   "metadata": {},
   "outputs": [
    {
     "data": {
      "text/plain": [
       "'-100.5'"
      ]
     },
     "execution_count": 3,
     "metadata": {},
     "output_type": "execute_result"
    }
   ],
   "source": [
    "int(100.5)\n",
    "bool(100.5)\n",
    "str(100.5)\n",
    "int(-100.5)\n",
    "bool(-100.5)\n",
    "str(-100.5)"
   ]
  },
  {
   "cell_type": "code",
   "execution_count": 27,
   "id": "32a015c0-d420-4f35-9c11-05245b2d57c7",
   "metadata": {},
   "outputs": [
    {
     "data": {
      "text/plain": [
       "100"
      ]
     },
     "execution_count": 27,
     "metadata": {},
     "output_type": "execute_result"
    }
   ],
   "source": [
    "int(100.5)"
   ]
  },
  {
   "cell_type": "code",
   "execution_count": 29,
   "id": "58fe41d7-5ad6-4406-b1e8-75e446123b05",
   "metadata": {},
   "outputs": [
    {
     "data": {
      "text/plain": [
       "True"
      ]
     },
     "execution_count": 29,
     "metadata": {},
     "output_type": "execute_result"
    }
   ],
   "source": [
    "bool(100.5)"
   ]
  },
  {
   "cell_type": "code",
   "execution_count": 31,
   "id": "34591fe5-f553-44c0-b46e-796a0e2aa536",
   "metadata": {},
   "outputs": [
    {
     "data": {
      "text/plain": [
       "'100.5'"
      ]
     },
     "execution_count": 31,
     "metadata": {},
     "output_type": "execute_result"
    }
   ],
   "source": [
    "str(100.5)"
   ]
  },
  {
   "cell_type": "code",
   "execution_count": 33,
   "id": "0e54eccd-0e38-4d35-86dd-d384b14751c5",
   "metadata": {},
   "outputs": [
    {
     "data": {
      "text/plain": [
       "-100"
      ]
     },
     "execution_count": 33,
     "metadata": {},
     "output_type": "execute_result"
    }
   ],
   "source": [
    "int(-100.5)"
   ]
  },
  {
   "cell_type": "code",
   "execution_count": 35,
   "id": "ee72ffb6-0c48-492c-bf56-f3d164ac7d51",
   "metadata": {},
   "outputs": [
    {
     "data": {
      "text/plain": [
       "True"
      ]
     },
     "execution_count": 35,
     "metadata": {},
     "output_type": "execute_result"
    }
   ],
   "source": [
    "bool(-100.5)\n"
   ]
  },
  {
   "cell_type": "code",
   "execution_count": 37,
   "id": "ccb15eee-6bf4-4ebd-9619-8bd99f38d0bb",
   "metadata": {},
   "outputs": [
    {
     "data": {
      "text/plain": [
       "'-100.5'"
      ]
     },
     "execution_count": 37,
     "metadata": {},
     "output_type": "execute_result"
    }
   ],
   "source": [
    "str(-100.5)"
   ]
  },
  {
   "cell_type": "code",
   "execution_count": 39,
   "id": "b904dde4-2668-4838-a8c8-bcef00e2e026",
   "metadata": {},
   "outputs": [
    {
     "name": "stdout",
     "output_type": "stream",
     "text": [
      "0\n",
      "True\n",
      "0.5\n"
     ]
    }
   ],
   "source": [
    "print(int(0.5))\n",
    "print(bool(0.5))\n",
    "print(str(0.5))"
   ]
  },
  {
   "cell_type": "code",
   "execution_count": 41,
   "id": "465fbd54-c58c-4a91-a9c6-251c399f734a",
   "metadata": {},
   "outputs": [
    {
     "name": "stdout",
     "output_type": "stream",
     "text": [
      "False\n"
     ]
    }
   ],
   "source": [
    "print(bool(0.0))"
   ]
  },
  {
   "cell_type": "markdown",
   "id": "79bb2aa5-b35f-4d4d-a633-cfc096da277d",
   "metadata": {},
   "source": [
    "**String to other datatypes**"
   ]
  },
  {
   "cell_type": "code",
   "execution_count": null,
   "id": "6feab4b2-efda-41ba-9540-9f7492a2c859",
   "metadata": {},
   "outputs": [],
   "source": [
    "int('apple')#fail\n",
    "float('apple')#fail\n",
    "bool('apple')#works"
   ]
  },
  {
   "cell_type": "code",
   "execution_count": 44,
   "id": "c84a65ce-386b-492d-88cf-5fe00e0eee12",
   "metadata": {},
   "outputs": [
    {
     "data": {
      "text/plain": [
       "True"
      ]
     },
     "execution_count": 44,
     "metadata": {},
     "output_type": "execute_result"
    }
   ],
   "source": [
    "bool('apple')"
   ]
  },
  {
   "cell_type": "markdown",
   "id": "b8e971bc-df10-47d6-970d-16251b3f9144",
   "metadata": {},
   "source": [
    "- True : ON something is present\n",
    "- False: OFF that is not present"
   ]
  },
  {
   "cell_type": "code",
   "execution_count": 47,
   "id": "28c974ba-b703-4523-a793-0a337c34eb74",
   "metadata": {},
   "outputs": [
    {
     "data": {
      "text/plain": [
       "False"
      ]
     },
     "execution_count": 47,
     "metadata": {},
     "output_type": "execute_result"
    }
   ],
   "source": [
    "bool('')"
   ]
  },
  {
   "cell_type": "code",
   "execution_count": 49,
   "id": "72e630bf-4516-413f-b14f-2cd0b0674528",
   "metadata": {},
   "outputs": [
    {
     "data": {
      "text/plain": [
       "5"
      ]
     },
     "execution_count": 49,
     "metadata": {},
     "output_type": "execute_result"
    }
   ],
   "source": [
    "len('apple')"
   ]
  },
  {
   "cell_type": "code",
   "execution_count": 51,
   "id": "4489b3bb-cc56-4c27-91fe-e0b4bfc98a0e",
   "metadata": {},
   "outputs": [
    {
     "data": {
      "text/plain": [
       "1"
      ]
     },
     "execution_count": 51,
     "metadata": {},
     "output_type": "execute_result"
    }
   ],
   "source": [
    "len('0')"
   ]
  },
  {
   "cell_type": "markdown",
   "id": "d22c73d7-3a61-4dc2-aa04-29e901b4c9fa",
   "metadata": {},
   "source": [
    "- for numbers 0 and 0.0 boolean conversion gives **False**\n",
    "- for strings empty boolean conversion gives **False**"
   ]
  },
  {
   "cell_type": "code",
   "execution_count": 3,
   "id": "5717a03e-9a1f-420b-885b-e270785c7dd9",
   "metadata": {},
   "outputs": [
    {
     "ename": "NameError",
     "evalue": "name 'flaot' is not defined",
     "output_type": "error",
     "traceback": [
      "\u001b[1;31m---------------------------------------------------------------------------\u001b[0m",
      "\u001b[1;31mNameError\u001b[0m                                 Traceback (most recent call last)",
      "Cell \u001b[1;32mIn[3], line 1\u001b[0m\n\u001b[1;32m----> 1\u001b[0m flaot(\u001b[38;5;124m'\u001b[39m\u001b[38;5;124m10\u001b[39m\u001b[38;5;124m'\u001b[39m),\u001b[38;5;28mbool\u001b[39m(\u001b[38;5;124m'\u001b[39m\u001b[38;5;124m10\u001b[39m\u001b[38;5;124m'\u001b[39m),\u001b[38;5;28mint\u001b[39m(\u001b[38;5;124m'\u001b[39m\u001b[38;5;124m10\u001b[39m\u001b[38;5;124m'\u001b[39m)\n",
      "\u001b[1;31mNameError\u001b[0m: name 'flaot' is not defined"
     ]
    }
   ],
   "source": [
    "flaot('10'),bool('10'),int('10')"
   ]
  },
  {
   "cell_type": "code",
   "execution_count": 7,
   "id": "e978a51a-a8c1-4134-8112-99ae41663372",
   "metadata": {},
   "outputs": [
    {
     "ename": "NameError",
     "evalue": "name 'flaot' is not defined",
     "output_type": "error",
     "traceback": [
      "\u001b[1;31m---------------------------------------------------------------------------\u001b[0m",
      "\u001b[1;31mNameError\u001b[0m                                 Traceback (most recent call last)",
      "Cell \u001b[1;32mIn[7], line 1\u001b[0m\n\u001b[1;32m----> 1\u001b[0m flaot(\u001b[38;5;124m'\u001b[39m\u001b[38;5;124m10\u001b[39m\u001b[38;5;124m'\u001b[39m)\n",
      "\u001b[1;31mNameError\u001b[0m: name 'flaot' is not defined"
     ]
    }
   ],
   "source": [
    "flaot('10')"
   ]
  },
  {
   "cell_type": "code",
   "execution_count": 9,
   "id": "a9b78814-0be0-41b0-8106-38aef7907ad1",
   "metadata": {},
   "outputs": [
    {
     "data": {
      "text/plain": [
       "True"
      ]
     },
     "execution_count": 9,
     "metadata": {},
     "output_type": "execute_result"
    }
   ],
   "source": [
    "bool('10')"
   ]
  },
  {
   "cell_type": "code",
   "execution_count": 26,
   "id": "34dba07a-4964-44d8-b2a8-e9032f2488a8",
   "metadata": {},
   "outputs": [
    {
     "data": {
      "text/plain": [
       "10"
      ]
     },
     "execution_count": 26,
     "metadata": {},
     "output_type": "execute_result"
    }
   ],
   "source": [
    "int('10')"
   ]
  },
  {
   "cell_type": "code",
   "execution_count": 16,
   "id": "ff0569af-c2b3-43f1-a0d8-95b07d9805e3",
   "metadata": {},
   "outputs": [
    {
     "data": {
      "text/plain": [
       "10.5"
      ]
     },
     "execution_count": 16,
     "metadata": {},
     "output_type": "execute_result"
    }
   ],
   "source": [
    "float('10.5')"
   ]
  },
  {
   "cell_type": "code",
   "execution_count": 18,
   "id": "e4cb2243-f50a-4e15-a5b0-c647f721dfc8",
   "metadata": {},
   "outputs": [
    {
     "data": {
      "text/plain": [
       "True"
      ]
     },
     "execution_count": 18,
     "metadata": {},
     "output_type": "execute_result"
    }
   ],
   "source": [
    "bool('10.5')"
   ]
  },
  {
   "cell_type": "code",
   "execution_count": 20,
   "id": "78ebe466-2d7b-49a0-804e-98f6aebb5325",
   "metadata": {},
   "outputs": [
    {
     "ename": "ValueError",
     "evalue": "invalid literal for int() with base 10: '10.5'",
     "output_type": "error",
     "traceback": [
      "\u001b[1;31m---------------------------------------------------------------------------\u001b[0m",
      "\u001b[1;31mValueError\u001b[0m                                Traceback (most recent call last)",
      "Cell \u001b[1;32mIn[20], line 1\u001b[0m\n\u001b[1;32m----> 1\u001b[0m \u001b[38;5;28mint\u001b[39m(\u001b[38;5;124m'\u001b[39m\u001b[38;5;124m10.5\u001b[39m\u001b[38;5;124m'\u001b[39m)\n",
      "\u001b[1;31mValueError\u001b[0m: invalid literal for int() with base 10: '10.5'"
     ]
    }
   ],
   "source": [
    "int('10.5')"
   ]
  },
  {
   "cell_type": "code",
   "execution_count": 1,
   "id": "df3c7758-8fe4-402d-8d46-bb0913acbabe",
   "metadata": {},
   "outputs": [
    {
     "ename": "ValueError",
     "evalue": "invalid literal for int() with base 10: '10.5'",
     "output_type": "error",
     "traceback": [
      "\u001b[1;31m---------------------------------------------------------------------------\u001b[0m",
      "\u001b[1;31mValueError\u001b[0m                                Traceback (most recent call last)",
      "Cell \u001b[1;32mIn[1], line 1\u001b[0m\n\u001b[1;32m----> 1\u001b[0m \u001b[38;5;28mfloat\u001b[39m(\u001b[38;5;124m'\u001b[39m\u001b[38;5;124m10.5\u001b[39m\u001b[38;5;124m'\u001b[39m),\u001b[38;5;28mbool\u001b[39m(\u001b[38;5;124m'\u001b[39m\u001b[38;5;124m10.5\u001b[39m\u001b[38;5;124m'\u001b[39m),\u001b[38;5;28mint\u001b[39m(\u001b[38;5;124m'\u001b[39m\u001b[38;5;124m10.5\u001b[39m\u001b[38;5;124m'\u001b[39m)\n",
      "\u001b[1;31mValueError\u001b[0m: invalid literal for int() with base 10: '10.5'"
     ]
    }
   ],
   "source": [
    "float('10.5'),bool('10.5'),int('10.5')"
   ]
  },
  {
   "cell_type": "code",
   "execution_count": 14,
   "id": "e7e63bb7-acc9-406a-adb6-3799ff050b72",
   "metadata": {},
   "outputs": [
    {
     "ename": "ValueError",
     "evalue": "invalid literal for int() with base 10: '10.5'",
     "output_type": "error",
     "traceback": [
      "\u001b[1;31m---------------------------------------------------------------------------\u001b[0m",
      "\u001b[1;31mValueError\u001b[0m                                Traceback (most recent call last)",
      "Cell \u001b[1;32mIn[14], line 1\u001b[0m\n\u001b[1;32m----> 1\u001b[0m \u001b[38;5;28mint\u001b[39m(\u001b[38;5;124m'\u001b[39m\u001b[38;5;124m10.5\u001b[39m\u001b[38;5;124m'\u001b[39m)\n",
      "\u001b[1;31mValueError\u001b[0m: invalid literal for int() with base 10: '10.5'"
     ]
    }
   ],
   "source": [
    "int('10.5')"
   ]
  },
  {
   "cell_type": "code",
   "execution_count": 5,
   "id": "f2ea11ce-21ed-44f2-b1a0-91d7c12fa194",
   "metadata": {},
   "outputs": [
    {
     "data": {
      "text/plain": [
       "True"
      ]
     },
     "execution_count": 5,
     "metadata": {},
     "output_type": "execute_result"
    }
   ],
   "source": [
    "bool('10.5')"
   ]
  },
  {
   "cell_type": "code",
   "execution_count": 7,
   "id": "f7fbd3f9-6bf8-4380-8912-4c6392fac5dd",
   "metadata": {},
   "outputs": [
    {
     "data": {
      "text/plain": [
       "10.5"
      ]
     },
     "execution_count": 7,
     "metadata": {},
     "output_type": "execute_result"
    }
   ],
   "source": [
    "float('10.5')"
   ]
  },
  {
   "cell_type": "markdown",
   "id": "f32e550b-fec2-412f-b6d7-490ffc530780",
   "metadata": {},
   "source": [
    "**Float is the boss**\n",
    "float('10') #works\n",
    "float('10.5') #works\n",
    "\n",
    "int('10') #works\n",
    "int('10.5') #fails"
   ]
  },
  {
   "cell_type": "markdown",
   "id": "35f4ca12-1bee-4dcc-88c5-82c89a498ee4",
   "metadata": {},
   "source": [
    "**Boolean data types to other data types**"
   ]
  },
  {
   "cell_type": "code",
   "execution_count": 11,
   "id": "4250457a-86cd-419e-8839-f112cc5cac5e",
   "metadata": {},
   "outputs": [
    {
     "name": "stdout",
     "output_type": "stream",
     "text": [
      "1\n",
      "1.0\n",
      "True\n",
      "0\n",
      "0.0\n",
      "False\n"
     ]
    }
   ],
   "source": [
    "print(int(True))\n",
    "print(float(True))\n",
    "print(str(True))\n",
    "print(int(False))\n",
    "print(float(False))\n",
    "print(str(False))"
   ]
  },
  {
   "cell_type": "code",
   "execution_count": 18,
   "id": "e09fe6b8-5e28-4772-becc-5984a0a0777a",
   "metadata": {},
   "outputs": [
    {
     "data": {
      "text/plain": [
       "10"
      ]
     },
     "execution_count": 18,
     "metadata": {},
     "output_type": "execute_result"
    }
   ],
   "source": [
    "int('10')"
   ]
  },
  {
   "cell_type": "code",
   "execution_count": null,
   "id": "e9ee8c5a-2fb7-4e6e-9ebc-727ad7ef5af6",
   "metadata": {},
   "outputs": [],
   "source": []
  }
 ],
 "metadata": {
  "kernelspec": {
   "display_name": "Python [conda env:base] *",
   "language": "python",
   "name": "conda-base-py"
  },
  "language_info": {
   "codemirror_mode": {
    "name": "ipython",
    "version": 3
   },
   "file_extension": ".py",
   "mimetype": "text/x-python",
   "name": "python",
   "nbconvert_exporter": "python",
   "pygments_lexer": "ipython3",
   "version": "3.12.7"
  }
 },
 "nbformat": 4,
 "nbformat_minor": 5
}
