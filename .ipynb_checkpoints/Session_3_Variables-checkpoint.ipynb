{
 "cells": [
  {
   "cell_type": "markdown",
   "id": "d4e21204-df88-42b9-b045-f7c1b93bcabf",
   "metadata": {},
   "source": [
    "# Variables"
   ]
  },
  {
   "cell_type": "markdown",
   "id": "83ebf0e0-660a-4fc5-9cd5-7ac787f92373",
   "metadata": {},
   "source": [
    "- Variables are used to store the data in memory location\n",
    "- The Data can be change\n",
    "- These Variables can be used to manipulate python code"
   ]
  },
  {
   "cell_type": "code",
   "execution_count": 3,
   "id": "f22797a7-feb4-4b0c-a32d-f3e91aa8db0a",
   "metadata": {},
   "outputs": [
    {
     "data": {
      "text/plain": [
       "100"
      ]
     },
     "execution_count": 3,
     "metadata": {},
     "output_type": "execute_result"
    }
   ],
   "source": [
    "number=100\n",
    "#100 is stored in a variable called as number\n",
    "number"
   ]
  },
  {
   "cell_type": "code",
   "execution_count": 5,
   "id": "22c362fb-d4db-4582-8374-debbaebec96d",
   "metadata": {},
   "outputs": [
    {
     "data": {
      "text/plain": [
       "200"
      ]
     },
     "execution_count": 5,
     "metadata": {},
     "output_type": "execute_result"
    }
   ],
   "source": [
    "NUMBER=200\n",
    "NUMBER"
   ]
  },
  {
   "cell_type": "code",
   "execution_count": 7,
   "id": "b1bb8554-b581-488b-a1ea-fa0c17098ae9",
   "metadata": {},
   "outputs": [
    {
     "data": {
      "text/plain": [
       "(200, 100)"
      ]
     },
     "execution_count": 7,
     "metadata": {},
     "output_type": "execute_result"
    }
   ],
   "source": [
    "NUMBER,number"
   ]
  },
  {
   "cell_type": "code",
   "execution_count": 12,
   "id": "f7168c83-378f-4e22-aa4f-a55dac9d1674",
   "metadata": {},
   "outputs": [
    {
     "data": {
      "text/plain": [
       "300"
      ]
     },
     "execution_count": 12,
     "metadata": {},
     "output_type": "execute_result"
    }
   ],
   "source": [
    "NUMber=300\n",
    "NUMber"
   ]
  },
  {
   "cell_type": "code",
   "execution_count": 14,
   "id": "2ec3183b-5771-471c-a873-880038b509d3",
   "metadata": {},
   "outputs": [
    {
     "data": {
      "text/plain": [
       "(100, 200, 300)"
      ]
     },
     "execution_count": 14,
     "metadata": {},
     "output_type": "execute_result"
    }
   ],
   "source": [
    "number,NUMBER,NUMber"
   ]
  },
  {
   "cell_type": "code",
   "execution_count": 17,
   "id": "d9bb6f13-438c-47dc-b27f-a021f2b0d3a4",
   "metadata": {},
   "outputs": [
    {
     "data": {
      "text/plain": [
       "400"
      ]
     },
     "execution_count": 17,
     "metadata": {},
     "output_type": "execute_result"
    }
   ],
   "source": [
    "number123=400\n",
    "number123"
   ]
  },
  {
   "cell_type": "code",
   "execution_count": 19,
   "id": "5c024973-1359-47f2-bb8d-e720c3cc726f",
   "metadata": {},
   "outputs": [
    {
     "ename": "SyntaxError",
     "evalue": "invalid decimal literal (359278068.py, line 1)",
     "output_type": "error",
     "traceback": [
      "\u001b[1;36m  Cell \u001b[1;32mIn[19], line 1\u001b[1;36m\u001b[0m\n\u001b[1;33m    123number=400\u001b[0m\n\u001b[1;37m      ^\u001b[0m\n\u001b[1;31mSyntaxError\u001b[0m\u001b[1;31m:\u001b[0m invalid decimal literal\n"
     ]
    }
   ],
   "source": [
    "123number=400\n",
    "123number"
   ]
  },
  {
   "cell_type": "code",
   "execution_count": 21,
   "id": "c1bbb821-67f9-4faa-9b13-64e5f25fa92c",
   "metadata": {},
   "outputs": [
    {
     "data": {
      "text/plain": [
       "400"
      ]
     },
     "execution_count": 21,
     "metadata": {},
     "output_type": "execute_result"
    }
   ],
   "source": [
    "# type first two lette enter tab\n",
    "number\n",
    "number123"
   ]
  },
  {
   "cell_type": "markdown",
   "id": "c76da728-0088-435a-bbdf-76ba265e9d72",
   "metadata": {},
   "source": [
    "**Note**:\n",
    "- Variables generally in black color\n",
    "- Green color should not be a variables\n",
    "- numbers as suffix can work\n",
    "- numbers as prefix fail"
   ]
  },
  {
   "cell_type": "code",
   "execution_count": 24,
   "id": "8ea69de2-f882-4964-a6ab-9a0991cf263d",
   "metadata": {},
   "outputs": [
    {
     "ename": "SyntaxError",
     "evalue": "invalid syntax (988349833.py, line 1)",
     "output_type": "error",
     "traceback": [
      "\u001b[1;36m  Cell \u001b[1;32mIn[24], line 1\u001b[1;36m\u001b[0m\n\u001b[1;33m    number$=600\u001b[0m\n\u001b[1;37m          ^\u001b[0m\n\u001b[1;31mSyntaxError\u001b[0m\u001b[1;31m:\u001b[0m invalid syntax\n"
     ]
    }
   ],
   "source": [
    "number$=600\n",
    "number$"
   ]
  },
  {
   "cell_type": "markdown",
   "id": "c04ecf5c-9e53-4725-bb04-5161dcd5f9b0",
   "metadata": {},
   "source": [
    "- spl characters does not allowed"
   ]
  },
  {
   "cell_type": "code",
   "execution_count": 28,
   "id": "19929112-42b0-4a73-836d-65090897b5e8",
   "metadata": {},
   "outputs": [
    {
     "ename": "SyntaxError",
     "evalue": "invalid syntax (3486595279.py, line 1)",
     "output_type": "error",
     "traceback": [
      "\u001b[1;36m  Cell \u001b[1;32mIn[28], line 1\u001b[1;36m\u001b[0m\n\u001b[1;33m    number one=200\u001b[0m\n\u001b[1;37m           ^\u001b[0m\n\u001b[1;31mSyntaxError\u001b[0m\u001b[1;31m:\u001b[0m invalid syntax\n"
     ]
    }
   ],
   "source": [
    "number one=200\n",
    "number one"
   ]
  },
  {
   "cell_type": "code",
   "execution_count": 30,
   "id": "617f85cf-c384-4d18-8739-69340477021f",
   "metadata": {},
   "outputs": [
    {
     "data": {
      "text/plain": [
       "300"
      ]
     },
     "execution_count": 30,
     "metadata": {},
     "output_type": "execute_result"
    }
   ],
   "source": [
    "number_one=300\n",
    "number_one"
   ]
  },
  {
   "cell_type": "markdown",
   "id": "eb6a8b75-3f3e-4e09-82e1-c0cd72ba4538",
   "metadata": {},
   "source": [
    "- underscore can use as a variable"
   ]
  },
  {
   "cell_type": "code",
   "execution_count": 33,
   "id": "e99acf02-1efa-4ca4-910a-5b6c3994c3f9",
   "metadata": {},
   "outputs": [
    {
     "data": {
      "text/plain": [
       "1000"
      ]
     },
     "execution_count": 33,
     "metadata": {},
     "output_type": "execute_result"
    }
   ],
   "source": [
    "_=1000\n",
    "_"
   ]
  },
  {
   "cell_type": "markdown",
   "id": "298b8a99-c3d8-4cc8-874a-efd9cca4d5aa",
   "metadata": {},
   "source": [
    "- unserscore at the beginning works"
   ]
  },
  {
   "cell_type": "code",
   "execution_count": 36,
   "id": "20cf674d-3831-47cf-b439-ada1abed8216",
   "metadata": {},
   "outputs": [
    {
     "ename": "SyntaxError",
     "evalue": "invalid syntax (4067401087.py, line 1)",
     "output_type": "error",
     "traceback": [
      "\u001b[1;36m  Cell \u001b[1;32mIn[36], line 1\u001b[1;36m\u001b[0m\n\u001b[1;33m    if=1000\u001b[0m\n\u001b[1;37m      ^\u001b[0m\n\u001b[1;31mSyntaxError\u001b[0m\u001b[1;31m:\u001b[0m invalid syntax\n"
     ]
    }
   ],
   "source": [
    "if=1000"
   ]
  },
  {
   "cell_type": "markdown",
   "id": "5342732d-c1e5-4a1e-bc85-484f0ea259d6",
   "metadata": {},
   "source": [
    "if, for, while,True,False\n",
    "- keywords cannot use as Variables"
   ]
  },
  {
   "cell_type": "code",
   "execution_count": null,
   "id": "436be7eb-562e-4b0d-939a-c3ad2d5fe381",
   "metadata": {},
   "outputs": [],
   "source": []
  }
 ],
 "metadata": {
  "kernelspec": {
   "display_name": "Python [conda env:base] *",
   "language": "python",
   "name": "conda-base-py"
  },
  "language_info": {
   "codemirror_mode": {
    "name": "ipython",
    "version": 3
   },
   "file_extension": ".py",
   "mimetype": "text/x-python",
   "name": "python",
   "nbconvert_exporter": "python",
   "pygments_lexer": "ipython3",
   "version": "3.12.7"
  }
 },
 "nbformat": 4,
 "nbformat_minor": 5
}
